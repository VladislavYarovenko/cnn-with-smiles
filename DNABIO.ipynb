{
  "nbformat": 4,
  "nbformat_minor": 0,
  "metadata": {
    "colab": {
      "provenance": [],
      "gpuType": "T4"
    },
    "kernelspec": {
      "name": "python3",
      "display_name": "Python 3"
    },
    "language_info": {
      "name": "python"
    },
    "accelerator": "GPU"
  },
  "cells": [
    {
      "cell_type": "markdown",
      "source": [
        "## Import libraries that are not in Google Colab\n",
        "\n",
        "If you're using your machine instead of colab, refer to the requirements.txt"
      ],
      "metadata": {
        "id": "3B6gbbpHJOIy"
      }
    },
    {
      "cell_type": "code",
      "source": [
        "!pip install rdkit\n",
        "!pip install chainer\n",
        "!pip install GPy\n",
        "!pip install GPyOpt"
      ],
      "metadata": {
        "id": "bnJUP8z-x2et"
      },
      "execution_count": null,
      "outputs": []
    },
    {
      "cell_type": "markdown",
      "source": [
        "## Clone forked library from git"
      ],
      "metadata": {
        "id": "wlN45tLLJaGr"
      }
    },
    {
      "cell_type": "code",
      "execution_count": null,
      "metadata": {
        "id": "lftEZBB1wiVQ"
      },
      "outputs": [],
      "source": [
        "!git clone https://github.com/VladislavYarovenko/cnn-with-smiles"
      ]
    },
    {
      "cell_type": "markdown",
      "source": [
        "## Create necessary folders/files"
      ],
      "metadata": {
        "id": "sXKKPDGXJh-w"
      }
    },
    {
      "cell_type": "code",
      "source": [
        "%cd cnn-with-smiles\n",
        "%mkdir ./output\n",
        "%mkdir ./output/NR-AR\n",
        "!touch ./output/NR-AR/CV_log.txt"
      ],
      "metadata": {
        "id": "3riVuYF3w6mu"
      },
      "execution_count": null,
      "outputs": []
    },
    {
      "cell_type": "markdown",
      "source": [
        "## Train & cross-validate the model"
      ],
      "metadata": {
        "id": "KNZSZgsiJnN9"
      }
    },
    {
      "cell_type": "code",
      "source": [
        "!python trainer-CV.py --gpu=0 -i ./TOX21 -o ./output -p NR-AR --epoch 5 --k1 1 --f1 320 --k2 51 --k3 15 --f3 880 --k4 45 --n_hid 264"
      ],
      "metadata": {
        "id": "J8cyPkmn0CaO"
      },
      "execution_count": null,
      "outputs": []
    },
    {
      "cell_type": "markdown",
      "source": [
        "## Evaluate the model"
      ],
      "metadata": {
        "id": "zGLHe7e9JpTP"
      }
    },
    {
      "cell_type": "code",
      "source": [
        "!python evaluate-CV.py --gpu=0 -m ./output --data ./TOX21 --protein NR-AR --epoch 5 --k1 1 --f1 320 --k2 51 --k3 15 --f3 880 --k4 45 --n_hid 264"
      ],
      "metadata": {
        "id": "xApmXQWFZ-oM"
      },
      "execution_count": null,
      "outputs": []
    },
    {
      "cell_type": "markdown",
      "source": [
        "## Train & Evaluate for TOX21"
      ],
      "metadata": {
        "id": "w2aolCF9JvQ9"
      }
    },
    {
      "cell_type": "code",
      "source": [
        "!python trainer-challenge.py --gpu=0 -i ./TOX21 -o ./output -p NR-AR --k1 1 --f1 320 --k2 51 --k3 15 --f3 880 --k4 45 --n_hid 264"
      ],
      "metadata": {
        "id": "ViAyQ75lxiVG"
      },
      "execution_count": null,
      "outputs": []
    }
  ]
}